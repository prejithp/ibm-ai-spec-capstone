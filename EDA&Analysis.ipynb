{
 "cells": [
  {
   "cell_type": "markdown",
   "metadata": {},
   "source": [
    "# Data Exploration"
   ]
  },
  {
   "cell_type": "markdown",
   "metadata": {},
   "source": [
    "1. This notebook deals with the exploration and feature engineering phase of the Capstone project. \n",
    "\n",
    "2. To solve this business problem, we will need data that corresponds to the revenue from the service for every country, at least at a monthly level. \n",
    "\n",
    "3. The provided python script - cslib.py automates the data ingestion process by pulling data from the JSON files and then creating multiple CSV files that correspond to individual countries\n",
    "\n",
    "4. & 5. The rest of the notebook will focus on exploring the data by creating various visualizations and also talks about the insights that are obtained from these visualizations"
   ]
  },
  {
   "cell_type": "code",
   "execution_count": 32,
   "metadata": {},
   "outputs": [],
   "source": [
    "import pandas as pd\n",
    "import os\n",
    "\n",
    "import matplotlib.pyplot as plt\n",
    "import seaborn as sns"
   ]
  },
  {
   "cell_type": "markdown",
   "metadata": {},
   "source": [
    "#### Loading train data"
   ]
  },
  {
   "cell_type": "code",
   "execution_count": 8,
   "metadata": {},
   "outputs": [],
   "source": [
    "df = pd.DataFrame()\n",
    "\n",
    "for file in os.listdir(\"./data/cs-train/\"):\n",
    "    filePath = os.path.join(\"./data/cs-train\", file)\n",
    "    if os.path.isfile(filePath):\n",
    "        df = pd.concat([df, pd.read_json(filePath)])"
   ]
  },
  {
   "cell_type": "markdown",
   "metadata": {},
   "source": [
    "#### Loading test data"
   ]
  },
  {
   "cell_type": "code",
   "execution_count": 9,
   "metadata": {},
   "outputs": [],
   "source": [
    "dfTest = pd.DataFrame()\n",
    "\n",
    "for file in os.listdir(\"./data/cs-production/\"):\n",
    "    filePath = os.path.join(\"./data/cs-production\", file)\n",
    "    if os.path.isfile(filePath):\n",
    "        df = pd.concat([df, pd.read_json(filePath)])"
   ]
  },
  {
   "cell_type": "markdown",
   "metadata": {},
   "source": [
    "#### Data Exploration"
   ]
  },
  {
   "cell_type": "code",
   "execution_count": 10,
   "metadata": {},
   "outputs": [
    {
     "data": {
      "text/html": [
       "<div>\n",
       "<style scoped>\n",
       "    .dataframe tbody tr th:only-of-type {\n",
       "        vertical-align: middle;\n",
       "    }\n",
       "\n",
       "    .dataframe tbody tr th {\n",
       "        vertical-align: top;\n",
       "    }\n",
       "\n",
       "    .dataframe thead th {\n",
       "        text-align: right;\n",
       "    }\n",
       "</style>\n",
       "<table border=\"1\" class=\"dataframe\">\n",
       "  <thead>\n",
       "    <tr style=\"text-align: right;\">\n",
       "      <th></th>\n",
       "      <th>country</th>\n",
       "      <th>customer_id</th>\n",
       "      <th>invoice</th>\n",
       "      <th>price</th>\n",
       "      <th>StreamID</th>\n",
       "      <th>TimesViewed</th>\n",
       "      <th>year</th>\n",
       "      <th>month</th>\n",
       "      <th>day</th>\n",
       "      <th>total_price</th>\n",
       "      <th>stream_id</th>\n",
       "      <th>times_viewed</th>\n",
       "    </tr>\n",
       "  </thead>\n",
       "  <tbody>\n",
       "    <tr>\n",
       "      <th>0</th>\n",
       "      <td>United Kingdom</td>\n",
       "      <td>16327.0</td>\n",
       "      <td>521390</td>\n",
       "      <td>5.95</td>\n",
       "      <td>22121</td>\n",
       "      <td>3.0</td>\n",
       "      <td>2018</td>\n",
       "      <td>9</td>\n",
       "      <td>2</td>\n",
       "      <td>NaN</td>\n",
       "      <td>NaN</td>\n",
       "      <td>NaN</td>\n",
       "    </tr>\n",
       "    <tr>\n",
       "      <th>1</th>\n",
       "      <td>United Kingdom</td>\n",
       "      <td>16327.0</td>\n",
       "      <td>521390</td>\n",
       "      <td>1.25</td>\n",
       "      <td>22674</td>\n",
       "      <td>8.0</td>\n",
       "      <td>2018</td>\n",
       "      <td>9</td>\n",
       "      <td>2</td>\n",
       "      <td>NaN</td>\n",
       "      <td>NaN</td>\n",
       "      <td>NaN</td>\n",
       "    </tr>\n",
       "    <tr>\n",
       "      <th>2</th>\n",
       "      <td>United Kingdom</td>\n",
       "      <td>16327.0</td>\n",
       "      <td>521390</td>\n",
       "      <td>1.25</td>\n",
       "      <td>21774</td>\n",
       "      <td>4.0</td>\n",
       "      <td>2018</td>\n",
       "      <td>9</td>\n",
       "      <td>2</td>\n",
       "      <td>NaN</td>\n",
       "      <td>NaN</td>\n",
       "      <td>NaN</td>\n",
       "    </tr>\n",
       "    <tr>\n",
       "      <th>3</th>\n",
       "      <td>United Kingdom</td>\n",
       "      <td>16327.0</td>\n",
       "      <td>521390</td>\n",
       "      <td>1.25</td>\n",
       "      <td>84946</td>\n",
       "      <td>6.0</td>\n",
       "      <td>2018</td>\n",
       "      <td>9</td>\n",
       "      <td>2</td>\n",
       "      <td>NaN</td>\n",
       "      <td>NaN</td>\n",
       "      <td>NaN</td>\n",
       "    </tr>\n",
       "    <tr>\n",
       "      <th>4</th>\n",
       "      <td>United Kingdom</td>\n",
       "      <td>16327.0</td>\n",
       "      <td>521390</td>\n",
       "      <td>0.85</td>\n",
       "      <td>84970S</td>\n",
       "      <td>12.0</td>\n",
       "      <td>2018</td>\n",
       "      <td>9</td>\n",
       "      <td>2</td>\n",
       "      <td>NaN</td>\n",
       "      <td>NaN</td>\n",
       "      <td>NaN</td>\n",
       "    </tr>\n",
       "  </tbody>\n",
       "</table>\n",
       "</div>"
      ],
      "text/plain": [
       "          country  customer_id invoice  price StreamID  TimesViewed  year  \\\n",
       "0  United Kingdom      16327.0  521390   5.95    22121          3.0  2018   \n",
       "1  United Kingdom      16327.0  521390   1.25    22674          8.0  2018   \n",
       "2  United Kingdom      16327.0  521390   1.25    21774          4.0  2018   \n",
       "3  United Kingdom      16327.0  521390   1.25    84946          6.0  2018   \n",
       "4  United Kingdom      16327.0  521390   0.85   84970S         12.0  2018   \n",
       "\n",
       "   month  day  total_price stream_id  times_viewed  \n",
       "0      9    2          NaN       NaN           NaN  \n",
       "1      9    2          NaN       NaN           NaN  \n",
       "2      9    2          NaN       NaN           NaN  \n",
       "3      9    2          NaN       NaN           NaN  \n",
       "4      9    2          NaN       NaN           NaN  "
      ]
     },
     "execution_count": 10,
     "metadata": {},
     "output_type": "execute_result"
    }
   ],
   "source": [
    "df.head(5)"
   ]
  },
  {
   "cell_type": "markdown",
   "metadata": {},
   "source": [
    "#### The following tablescan be used to have a quick look at the data and its structure"
   ]
  },
  {
   "cell_type": "code",
   "execution_count": 11,
   "metadata": {},
   "outputs": [
    {
     "data": {
      "text/html": [
       "<div>\n",
       "<style scoped>\n",
       "    .dataframe tbody tr th:only-of-type {\n",
       "        vertical-align: middle;\n",
       "    }\n",
       "\n",
       "    .dataframe tbody tr th {\n",
       "        vertical-align: top;\n",
       "    }\n",
       "\n",
       "    .dataframe thead th {\n",
       "        text-align: right;\n",
       "    }\n",
       "</style>\n",
       "<table border=\"1\" class=\"dataframe\">\n",
       "  <thead>\n",
       "    <tr style=\"text-align: right;\">\n",
       "      <th></th>\n",
       "      <th>customer_id</th>\n",
       "      <th>price</th>\n",
       "      <th>TimesViewed</th>\n",
       "      <th>year</th>\n",
       "      <th>month</th>\n",
       "      <th>day</th>\n",
       "      <th>total_price</th>\n",
       "      <th>times_viewed</th>\n",
       "    </tr>\n",
       "  </thead>\n",
       "  <tbody>\n",
       "    <tr>\n",
       "      <th>count</th>\n",
       "      <td>824363.000000</td>\n",
       "      <td>886931.000000</td>\n",
       "      <td>522714.000000</td>\n",
       "      <td>1.067370e+06</td>\n",
       "      <td>1.067370e+06</td>\n",
       "      <td>1.067370e+06</td>\n",
       "      <td>180439.000000</td>\n",
       "      <td>544656.000000</td>\n",
       "    </tr>\n",
       "    <tr>\n",
       "      <th>mean</th>\n",
       "      <td>15324.641712</td>\n",
       "      <td>4.459617</td>\n",
       "      <td>5.241080</td>\n",
       "      <td>2.018426e+03</td>\n",
       "      <td>7.401210e+00</td>\n",
       "      <td>1.503104e+01</td>\n",
       "      <td>5.582112</td>\n",
       "      <td>5.290001</td>\n",
       "    </tr>\n",
       "    <tr>\n",
       "      <th>std</th>\n",
       "      <td>1697.462981</td>\n",
       "      <td>122.808662</td>\n",
       "      <td>5.109229</td>\n",
       "      <td>5.737608e-01</td>\n",
       "      <td>3.511474e+00</td>\n",
       "      <td>8.855846e+00</td>\n",
       "      <td>127.145287</td>\n",
       "      <td>5.132167</td>\n",
       "    </tr>\n",
       "    <tr>\n",
       "      <th>min</th>\n",
       "      <td>12346.000000</td>\n",
       "      <td>-53594.360000</td>\n",
       "      <td>0.000000</td>\n",
       "      <td>2.017000e+03</td>\n",
       "      <td>1.000000e+00</td>\n",
       "      <td>1.000000e+00</td>\n",
       "      <td>0.000000</td>\n",
       "      <td>0.000000</td>\n",
       "    </tr>\n",
       "    <tr>\n",
       "      <th>25%</th>\n",
       "      <td>13975.000000</td>\n",
       "      <td>1.250000</td>\n",
       "      <td>1.000000</td>\n",
       "      <td>2.018000e+03</td>\n",
       "      <td>4.000000e+00</td>\n",
       "      <td>7.000000e+00</td>\n",
       "      <td>1.250000</td>\n",
       "      <td>1.000000</td>\n",
       "    </tr>\n",
       "    <tr>\n",
       "      <th>50%</th>\n",
       "      <td>15255.000000</td>\n",
       "      <td>2.100000</td>\n",
       "      <td>3.000000</td>\n",
       "      <td>2.018000e+03</td>\n",
       "      <td>8.000000e+00</td>\n",
       "      <td>1.500000e+01</td>\n",
       "      <td>2.510000</td>\n",
       "      <td>3.000000</td>\n",
       "    </tr>\n",
       "    <tr>\n",
       "      <th>75%</th>\n",
       "      <td>16797.000000</td>\n",
       "      <td>4.130000</td>\n",
       "      <td>8.000000</td>\n",
       "      <td>2.019000e+03</td>\n",
       "      <td>1.100000e+01</td>\n",
       "      <td>2.300000e+01</td>\n",
       "      <td>4.250000</td>\n",
       "      <td>8.000000</td>\n",
       "    </tr>\n",
       "    <tr>\n",
       "      <th>max</th>\n",
       "      <td>18287.000000</td>\n",
       "      <td>38970.000000</td>\n",
       "      <td>24.000000</td>\n",
       "      <td>2.019000e+03</td>\n",
       "      <td>1.200000e+01</td>\n",
       "      <td>3.100000e+01</td>\n",
       "      <td>17836.460000</td>\n",
       "      <td>24.000000</td>\n",
       "    </tr>\n",
       "  </tbody>\n",
       "</table>\n",
       "</div>"
      ],
      "text/plain": [
       "         customer_id          price    TimesViewed          year  \\\n",
       "count  824363.000000  886931.000000  522714.000000  1.067370e+06   \n",
       "mean    15324.641712       4.459617       5.241080  2.018426e+03   \n",
       "std      1697.462981     122.808662       5.109229  5.737608e-01   \n",
       "min     12346.000000  -53594.360000       0.000000  2.017000e+03   \n",
       "25%     13975.000000       1.250000       1.000000  2.018000e+03   \n",
       "50%     15255.000000       2.100000       3.000000  2.018000e+03   \n",
       "75%     16797.000000       4.130000       8.000000  2.019000e+03   \n",
       "max     18287.000000   38970.000000      24.000000  2.019000e+03   \n",
       "\n",
       "              month           day    total_price   times_viewed  \n",
       "count  1.067370e+06  1.067370e+06  180439.000000  544656.000000  \n",
       "mean   7.401210e+00  1.503104e+01       5.582112       5.290001  \n",
       "std    3.511474e+00  8.855846e+00     127.145287       5.132167  \n",
       "min    1.000000e+00  1.000000e+00       0.000000       0.000000  \n",
       "25%    4.000000e+00  7.000000e+00       1.250000       1.000000  \n",
       "50%    8.000000e+00  1.500000e+01       2.510000       3.000000  \n",
       "75%    1.100000e+01  2.300000e+01       4.250000       8.000000  \n",
       "max    1.200000e+01  3.100000e+01   17836.460000      24.000000  "
      ]
     },
     "execution_count": 11,
     "metadata": {},
     "output_type": "execute_result"
    }
   ],
   "source": [
    "df.describe()"
   ]
  },
  {
   "cell_type": "code",
   "execution_count": 12,
   "metadata": {},
   "outputs": [
    {
     "name": "stdout",
     "output_type": "stream",
     "text": [
      "<class 'pandas.core.frame.DataFrame'>\n",
      "Int64Index: 1067370 entries, 0 to 83654\n",
      "Data columns (total 12 columns):\n",
      " #   Column        Non-Null Count    Dtype  \n",
      "---  ------        --------------    -----  \n",
      " 0   country       1067370 non-null  object \n",
      " 1   customer_id   824363 non-null   float64\n",
      " 2   invoice       1067370 non-null  object \n",
      " 3   price         886931 non-null   float64\n",
      " 4   StreamID      522714 non-null   object \n",
      " 5   TimesViewed   522714 non-null   float64\n",
      " 6   year          1067370 non-null  int64  \n",
      " 7   month         1067370 non-null  int64  \n",
      " 8   day           1067370 non-null  int64  \n",
      " 9   total_price   180439 non-null   float64\n",
      " 10  stream_id     544656 non-null   object \n",
      " 11  times_viewed  544656 non-null   float64\n",
      "dtypes: float64(5), int64(3), object(4)\n",
      "memory usage: 105.9+ MB\n"
     ]
    }
   ],
   "source": [
    "df.info()"
   ]
  },
  {
   "cell_type": "markdown",
   "metadata": {},
   "source": [
    "#### Correlation Heatmap"
   ]
  },
  {
   "cell_type": "code",
   "execution_count": 14,
   "metadata": {
    "scrolled": true
   },
   "outputs": [
    {
     "data": {
      "text/plain": [
       "<AxesSubplot:>"
      ]
     },
     "execution_count": 14,
     "metadata": {},
     "output_type": "execute_result"
    },
    {
     "data": {
      "image/png": "[encoded data removed]",
      "text/plain": [
       "<Figure size 432x288 with 2 Axes>"
      ]
     },
     "metadata": {
      "needs_background": "light"
     },
     "output_type": "display_data"
    }
   ],
   "source": [
    "sns.heatmap(df.corr())"
   ]
  },
  {
   "cell_type": "markdown",
   "metadata": {},
   "source": [
    "The above table shows that there is a heavy positive corelation between the price and the number of timesViewed"
   ]
  },
  {
   "cell_type": "markdown",
   "metadata": {},
   "source": [
    "#### Number of streams coming in from different countries"
   ]
  },
  {
   "cell_type": "code",
   "execution_count": 37,
   "metadata": {},
   "outputs": [
    {
     "data": {
      "image/png": "[encoded data removed]",
      "text/plain": [
       "<Figure size 432x288 with 1 Axes>"
      ]
     },
     "metadata": {
      "needs_background": "light"
     },
     "output_type": "display_data"
    }
   ],
   "source": [
    "sns.barplot(x=countryCounts.index, y=countryCounts.values)\n",
    "\n",
    "plt.xticks(rotation=90)\n",
    "plt.title(\"Country based streaming count\")\n",
    "plt.ylabel(\"Number of streams\")\n",
    "plt.xlabel(\"Country\")\n",
    "plt.show()"
   ]
  },
  {
   "cell_type": "markdown",
   "metadata": {},
   "source": [
    "UK seems to be the major consumer of products with a large number of streams coming in from the country"
   ]
  },
  {
   "cell_type": "markdown",
   "metadata": {},
   "source": [
    "#### Revenue in different years"
   ]
  },
  {
   "cell_type": "code",
   "execution_count": 50,
   "metadata": {},
   "outputs": [
    {
     "data": {
      "text/plain": [
       "Text(0, 0.5, 'Price')"
      ]
     },
     "execution_count": 50,
     "metadata": {},
     "output_type": "execute_result"
    },
    {
     "data": {
      "image/png": "[encoded data removed]",
      "text/plain": [
       "<Figure size 432x288 with 1 Axes>"
      ]
     },
     "metadata": {
      "needs_background": "light"
     },
     "output_type": "display_data"
    }
   ],
   "source": [
    "yearPriceDf = pd.pivot_table(df, index=\"year\", values=[\"price\"], aggfunc=\"sum\").reset_index()\n",
    "\n",
    "sns.barplot(x=\"year\", y=\"price\", data=yearPriceDf)\n",
    "\n",
    "plt.title(\"Year Based Revenue\")\n",
    "plt.xlabel(\"Year\")\n",
    "plt.ylabel(\"Price\")"
   ]
  },
  {
   "cell_type": "markdown",
   "metadata": {},
   "source": [
    "There is a huge jump in revenues from 2017 to 2018"
   ]
  },
  {
   "cell_type": "markdown",
   "metadata": {},
   "source": [
    "#### Country based Revenue"
   ]
  },
  {
   "cell_type": "code",
   "execution_count": 66,
   "metadata": {},
   "outputs": [
    {
     "data": {
      "text/plain": [
       "Text(0, 0.5, 'Revenue')"
      ]
     },
     "execution_count": 66,
     "metadata": {},
     "output_type": "execute_result"
    },
    {
     "data": {
      "image/png": "[encoded data removed]",
      "text/plain": [
       "<Figure size 432x288 with 1 Axes>"
      ]
     },
     "metadata": {
      "needs_background": "light"
     },
     "output_type": "display_data"
    }
   ],
   "source": [
    "countryPriceDf = pd.pivot_table(df, index=\"country\", values=[\"price\"], aggfunc=\"sum\") \\\n",
    "                                .reset_index() \\\n",
    "                                .sort_values(by=\"price\", ascending=False) \\\n",
    "                                .iloc[:10]\n",
    "\n",
    "sns.barplot(x=\"country\", y=\"price\", data=countryPriceDf)\n",
    "plt.title(\"Country based Revenue\")\n",
    "plt.xticks(rotation=90)\n",
    "plt.xlabel(\"Country\")\n",
    "plt.ylabel(\"Revenue\")"
   ]
  },
  {
   "cell_type": "markdown",
   "metadata": {},
   "source": [
    "UK as expected also provides the maximum amount of revenue for the company"
   ]
  }
 ],
 "metadata": {
  "kernelspec": {
   "display_name": "Python 3",
   "language": "python",
   "name": "python3"
  },
  "language_info": {
   "codemirror_mode": {
    "name": "ipython",
    "version": 3
   },
   "file_extension": ".py",
   "mimetype": "text/x-python",
   "name": "python",
   "nbconvert_exporter": "python",
   "pygments_lexer": "ipython3",
   "version": "3.6.10"
  }
 },
 "nbformat": 4,
 "nbformat_minor": 4
}
